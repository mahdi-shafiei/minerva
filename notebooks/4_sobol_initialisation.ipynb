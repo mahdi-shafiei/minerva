{
 "cells": [
  {
   "cell_type": "code",
   "execution_count": null,
   "metadata": {},
   "outputs": [],
   "source": [
    "import torch\n",
    "import pandas as pd\n",
    "import pytorch_lightning as pl\n",
    "\n",
    "from minerva.utils import get_index_from_lookup, draw_sobol_samples\n"
   ]
  },
  {
   "attachments": {},
   "cell_type": "markdown",
   "metadata": {},
   "source": [
    "## Notebook 4: Quasi-Random Sobol initialisation on a generated chemical space "
   ]
  },
  {
   "attachments": {},
   "cell_type": "markdown",
   "metadata": {},
   "source": [
    "This tutorial shows how to initialise a Bayesian optimisation campaign from a pre-created search space by drawing quasi-random Sobol samples, and outputting the resulting experiments as a dataframe for execution. `run_one_iteration.ipynb` shows how to run an iteration of a BO campaign given obtained experimental results from this initialisation. The example in this notebook was used to generate initial experiments for the experimental HTE campaign described in the manuscript accompanying this code repository."
   ]
  },
  {
   "cell_type": "code",
   "execution_count": null,
   "metadata": {},
   "outputs": [],
   "source": [
    "# set random seed \n",
    "seed=49\n",
    "pl.seed_everything(seed)\n",
    "\n",
    "tkwargs = {\n",
    "        \"dtype\": torch.double,\n",
    "        \"device\": torch.device(\"cuda\" if torch.cuda.is_available() else \"cpu\"),\n",
    "    }"
   ]
  },
  {
   "attachments": {},
   "cell_type": "markdown",
   "metadata": {},
   "source": [
    "## 1. Loading chemical space\n",
    "\n",
    "- We use a pre-generated chemical space from our experimental Nickel Suzuki campaign described in the manuscript accompanying this code repository\n",
    "- This chemical space contains all the combinations of experimental conditions that we considered for our optimisation campaign, totalling `88,000` possible reaction conditions\n",
    "- This chemical space displays the reaction conditions in text, and also descriptor format\n",
    "- The notebook generate_chemical_space.ipynb shows example generation of a chemical space in this format\n",
    "- Note that the inputs in this chemical space are already **pre-normalised** to `[0,1]`"
   ]
  },
  {
   "cell_type": "code",
   "execution_count": null,
   "metadata": {},
   "outputs": [],
   "source": [
    "# total possible reaction condition space including reaction descriptors \n",
    "total_chem_space = pd.read_csv('../experimental_campaigns/design_spaces/ni_suzuki_chemical_space.csv', index_col=0)\n",
    "total_chem_space"
   ]
  },
  {
   "attachments": {},
   "cell_type": "markdown",
   "metadata": {},
   "source": [
    "Now, we have the oppurtunity to drop any reaction conditions we don't want to start our initialisation with. Following the manuscript, we intended to initalise our chemical reaction space with only temperatures of `70` and `100` degrees."
   ]
  },
  {
   "cell_type": "code",
   "execution_count": null,
   "metadata": {},
   "outputs": [],
   "source": [
    "# filtered chemical reaction condition space with only those having temperatures of 70 and 100\n",
    "filtered_chem_space = total_chem_space[(total_chem_space['temperature'] ==70) | (total_chem_space['temperature'] ==100)]\n",
    "filtered_chem_space"
   ]
  },
  {
   "attachments": {},
   "cell_type": "markdown",
   "metadata": {},
   "source": [
    "Get numerical descriptors/feature columns from dataframe for training data "
   ]
  },
  {
   "cell_type": "code",
   "execution_count": null,
   "metadata": {},
   "outputs": [],
   "source": [
    "\n",
    "descriptor_index = 7 # our reaction condition representation in contained from column 7, 'ligand PC1', onwards to the end of the dataframe \n",
    "# this index will vary depending on your dataframe.\n",
    "\n",
    "descriptor_columns = total_chem_space.columns[descriptor_index:]\n",
    "descriptor_columns"
   ]
  },
  {
   "attachments": {},
   "cell_type": "markdown",
   "metadata": {},
   "source": [
    "Now we convert the descriptors into tensors for input into training models"
   ]
  },
  {
   "cell_type": "code",
   "execution_count": null,
   "metadata": {},
   "outputs": [],
   "source": [
    "# get the descriptor from column 7 onwards (from ligand PC1 onwards)\n",
    "total_chem_descriptors = total_chem_space[descriptor_columns]\n",
    "filtered_chem_descriptors = filtered_chem_space[descriptor_columns]\n",
    "\n",
    "# conver the descriptors into torch tensors for model input \n",
    "x_space = torch.tensor(total_chem_descriptors.to_numpy()).to(**tkwargs) # total reaction condition space \n",
    "init_x_space = torch.tensor(filtered_chem_descriptors.to_numpy()).to(**tkwargs) # restricted space with only certain initial temperatures"
   ]
  },
  {
   "attachments": {},
   "cell_type": "markdown",
   "metadata": {},
   "source": [
    "## 2. Quasi-Random Sobol initialisation in the absence of initial data \n",
    "Now, we draw quasi-random Sobol samples from the restricted/filtered chemical space to start our campaign. We get the indexes of these drawn experiments from our original search space to obtain our initial experiments. `run_bo_iteration.ipynb` shows how to run BO on the results of these experiments."
   ]
  },
  {
   "cell_type": "code",
   "execution_count": null,
   "metadata": {},
   "outputs": [],
   "source": [
    "init_x = draw_sobol_samples(n_samples=96, feature_matrix=init_x_space) # draw sobol samples from the restricted space \n",
    "init_x_index = get_index_from_lookup(init_x, x_space) # looks up index of drawn experimen†s from total chemical condition space.\n",
    "init_x_experiments = total_chem_space.iloc[init_x_index].sort_values(by='rxn_id')\n",
    "init_x_experiments.to_csv('../experimental_campaigns/experiments/tutorial_data/initial_experiments.csv')\n",
    "init_x_experiments"
   ]
  },
  {
   "cell_type": "code",
   "execution_count": null,
   "metadata": {},
   "outputs": [],
   "source": []
  }
 ],
 "metadata": {
  "kernelspec": {
   "display_name": "test_env",
   "language": "python",
   "name": "python3"
  },
  "language_info": {
   "codemirror_mode": {
    "name": "ipython",
    "version": 3
   },
   "file_extension": ".py",
   "mimetype": "text/x-python",
   "name": "python",
   "nbconvert_exporter": "python",
   "pygments_lexer": "ipython3",
   "version": "3.8.19 (default, Mar 20 2024, 19:58:24) \n[GCC 11.2.0]"
  },
  "orig_nbformat": 4,
  "vscode": {
   "interpreter": {
    "hash": "b02a12b6e09d04984cc20cb4777fb86fe654b18631361ce47d6857a6f00214fb"
   }
  }
 },
 "nbformat": 4,
 "nbformat_minor": 2
}
