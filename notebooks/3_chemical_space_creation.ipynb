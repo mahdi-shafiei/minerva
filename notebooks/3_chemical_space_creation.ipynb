{
 "cells": [
  {
   "cell_type": "code",
   "execution_count": null,
   "metadata": {},
   "outputs": [],
   "source": [
    "import pandas as pd\n",
    "import itertools"
   ]
  },
  {
   "attachments": {},
   "cell_type": "markdown",
   "metadata": {},
   "source": [
    "## Notebook 3: Generating a chemical reaction condition space for experimental deployment/benchmarking"
   ]
  },
  {
   "attachments": {},
   "cell_type": "markdown",
   "metadata": {},
   "source": [
    "**This tutorial covers how to generate a reaction condition space from a user-defined set of experiment combinations. We first define the list of variables that the experimentalist would like to test. This is formualted as lists of reaction parameters**"
   ]
  },
  {
   "cell_type": "code",
   "execution_count": null,
   "metadata": {},
   "outputs": [],
   "source": [
    "ligands = ['L0', 'L1', 'L2', 'L3', 'L4', 'L5', 'L6'] # we assume L_ refer to potential ligand names \n",
    "reaction_time = [60.0, 120.0, 180.0, 240.0, 300.0]\n",
    "temperature = [30.0, 50.0, 70.0, 100.0]\n",
    "catalyst_loading = [0.5, 0.1, 1.5, 2.0]"
   ]
  },
  {
   "attachments": {},
   "cell_type": "markdown",
   "metadata": {},
   "source": [
    "We then generate the multiplicative combinatorial space of reaction conditions of 7 x 5 x 4 x 4 = 560"
   ]
  },
  {
   "cell_type": "code",
   "execution_count": null,
   "metadata": {},
   "outputs": [],
   "source": [
    "all_combinations = itertools.product(ligands, reaction_time, temperature, catalyst_loading)\n",
    "reaction_conditions = pd.DataFrame(all_combinations, columns = ['ligand', 'reaction_time', 'temperature', 'catalyst_loading'])\n",
    "reaction_conditions"
   ]
  },
  {
   "attachments": {},
   "cell_type": "markdown",
   "metadata": {},
   "source": [
    "**As the categorical variables require featurisation, we assume one-hot encoding to convert the dataframe into input features**\n",
    "- For working with the quasi-random initialisation notebook, we would **normalise** the reaction features in this dataframe as input\n",
    "- Users may choose to replace the one-hot encodings of the reaction condition space with their own descriptors\n",
    "\n",
    "`4_sobol_initialisation.ipynb` and `5_run_bo_iteration.ipynb` shows how to use created chemical spaces to run optimisation campaigns"
   ]
  },
  {
   "cell_type": "code",
   "execution_count": null,
   "metadata": {},
   "outputs": [],
   "source": [
    "ligand_ohe = pd.get_dummies(reaction_conditions['ligand'], drop_first=False)*1\n",
    "reaction_condition_space = pd.concat([ligand_ohe, reaction_conditions.drop(['ligand'], axis=1)], axis=1)\n",
    "reaction_condition_space\n"
   ]
  },
  {
   "cell_type": "code",
   "execution_count": null,
   "metadata": {},
   "outputs": [],
   "source": []
  }
 ],
 "metadata": {
  "kernelspec": {
   "display_name": "test_env",
   "language": "python",
   "name": "python3"
  },
  "language_info": {
   "codemirror_mode": {
    "name": "ipython",
    "version": 3
   },
   "file_extension": ".py",
   "mimetype": "text/x-python",
   "name": "python",
   "nbconvert_exporter": "python",
   "pygments_lexer": "ipython3",
   "version": "3.8.19"
  },
  "orig_nbformat": 4,
  "vscode": {
   "interpreter": {
    "hash": "b02a12b6e09d04984cc20cb4777fb86fe654b18631361ce47d6857a6f00214fb"
   }
  }
 },
 "nbformat": 4,
 "nbformat_minor": 2
}
